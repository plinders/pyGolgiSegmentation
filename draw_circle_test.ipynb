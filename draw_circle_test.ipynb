{
 "cells": [
  {
   "cell_type": "code",
   "execution_count": 1,
   "metadata": {},
   "outputs": [],
   "source": [
    "import numpy as np\n",
    "import skimage.external.tifffile as tiff\n",
    "from skimage.filters import threshold_otsu, gaussian, sobel\n",
    "from skimage.morphology import watershed\n",
    "from skimage import measure, draw\n",
    "from scipy import ndimage as ndi\n",
    "from scipy import optimize\n",
    "import matplotlib.pyplot as plt\n",
    "from intersection import calcIntersections"
   ]
  },
  {
   "cell_type": "code",
   "execution_count": 4,
   "metadata": {},
   "outputs": [],
   "source": [
    "%matplotlib inline"
   ]
  },
  {
   "cell_type": "code",
   "execution_count": 5,
   "metadata": {},
   "outputs": [],
   "source": [
    "testfile = \"img/test_3balls.tif\"\n",
    "with tiff.TiffFile(testfile) as tif:\n",
    "    img = tif.asarray()"
   ]
  },
  {
   "cell_type": "code",
   "execution_count": 6,
   "metadata": {},
   "outputs": [],
   "source": [
    "markers = np.zeros_like(img)\n",
    "markers[img < 100] = 1\n",
    "markers[img > 100] = 2\n",
    "elevation_map = sobel(img)\n",
    "segmentation = watershed(elevation_map, markers)\n",
    "segmentation = ndi.binary_fill_holes(segmentation - 1)"
   ]
  },
  {
   "cell_type": "code",
   "execution_count": 8,
   "metadata": {},
   "outputs": [
    {
     "name": "stdout",
     "output_type": "stream",
     "text": [
      "props2 <class 'tuple'>\n",
      "props <class 'tuple'>\n",
      "props2 <class 'tuple'>\n",
      "props <class 'tuple'>\n",
      "props2 <class 'tuple'>\n",
      "props <class 'tuple'>\n"
     ]
    },
    {
     "data": {
      "image/png": "[encoded data removed]",
      "text/plain": [
       "<Figure size 432x288 with 1 Axes>"
      ]
     },
     "metadata": {
      "needs_background": "light"
     },
     "output_type": "display_data"
    }
   ],
   "source": [
    "labeled_nuclei, _ = ndi.label(segmentation)\n",
    "regions = measure.regionprops(labeled_nuclei)\n",
    "r = 60\n",
    "\n",
    "fig, ax = plt.subplots()\n",
    "perim = np.zeros((labeled_nuclei.shape[0], labeled_nuclei.shape[1]))\n",
    "processed_regions = []\n",
    "for props in regions:\n",
    "    y0, x0 = props.centroid\n",
    "    processed_regions.append(props.centroid)\n",
    "    \n",
    "    rr, cc = draw.circle(y0, x0, r, shape=labeled_nuclei.shape)\n",
    "    perim[rr, cc] = props.label\n",
    "    for props2 in processed_regions:\n",
    "        if props2 == props.centroid:\n",
    "            break\n",
    "        elif type(props2) is not None:\n",
    "            print(f'props2 {type(props2)}')\n",
    "            print(f'props {type(props.centroid)}')\n",
    "            try: \n",
    "                x3, y3, x4, y4 = calcIntersections(props.centroid, props2, r, r)\n",
    "                xMid = (x3 + x4) / 2\n",
    "                yMid = (y3 + y4) / 2\n",
    "                if (x3, x4, y3, y4) is not None:\n",
    "                     #ax.plot(x3, y3, '.', color='r')\n",
    "                     #ax.plot(x4, y4, '.', color='r')\n",
    "                    ax.plot([x3, x4], [y3, y4], color='r')\n",
    "                    ax.plot(xMid, yMid, '.', color='b')\n",
    "                    ax.plot([x0, xMid], [y0, yMid], color = 'b')\n",
    "                    #ax.plot(x0, y0, '.', color = 'green')\n",
    "            except TypeError:\n",
    "                pass\n",
    "        else:\n",
    "            pass\n",
    "\n",
    "ax.imshow(perim)\n",
    "\n",
    "\n",
    "#ax.imshow(labeled_nuclei, cmap = \"gray\")\n",
    "plt.show()"
   ]
  },
  {
   "cell_type": "code",
   "execution_count": null,
   "metadata": {},
   "outputs": [],
   "source": []
  }
 ],
 "metadata": {
  "kernelspec": {
   "display_name": "Python 3",
   "language": "python",
   "name": "python3"
  },
  "language_info": {
   "codemirror_mode": {
    "name": "ipython",
    "version": 3
   },
   "file_extension": ".py",
   "mimetype": "text/x-python",
   "name": "python",
   "nbconvert_exporter": "python",
   "pygments_lexer": "ipython3",
   "version": "3.7.2"
  }
 },
 "nbformat": 4,
 "nbformat_minor": 2
}
